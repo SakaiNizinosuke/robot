{
 "cells": [
  {
   "cell_type": "code",
   "execution_count": null,
   "metadata": {},
   "outputs": [],
   "source": [
    "item_dict = {\"cracker_box\": \"cracker_box\", \"tuna_fish_can\": \"bowl\", \"potted_meat_can\": \"lego_duplo\",\n",
    "\"cup\": \"cup\", \"foam_brick\": \"rubiks_cube\", \"toy_airplane\": \"bleach_cleanser\", \"windex_bottle\": \"mustard_bottle\"}"
   ]
  },
  {
   "cell_type": "code",
   "execution_count": null,
   "metadata": {},
   "outputs": [],
   "source": [
    "crackerbox crackerbox\n",
    "tuna_fish_can bowl\n",
    "potted_meat_can logo\n",
    "cup cup\n",
    "foam_brick rubiks_cube\n",
    "toy_airplane bleach_cleanser\n",
    "windex_bottle mustard_bottle\n"
   ]
  },
  {
   "cell_type": "code",
   "execution_count": null,
   "metadata": {},
   "outputs": [],
   "source": [
    "item_dict = {\"cracker_box\": \"tray_a_place\", \"tuna_fish_can\": \"container_a_place\", \"potted_meat_can\": \"bin_a_place\",\n",
    "\"cup\": \"drawer_in_left\", \"foam_brick\": \"bin_a_place\", \"toy_airplane\": \"container_a_place\", \"windex_bottle\": \"tray_a_place\"}"
   ]
  }
 ],
 "metadata": {
  "language_info": {
   "name": "python"
  }
 },
 "nbformat": 4,
 "nbformat_minor": 2
}
